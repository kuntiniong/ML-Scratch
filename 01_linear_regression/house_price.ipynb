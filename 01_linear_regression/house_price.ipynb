{
 "cells": [
  {
   "cell_type": "markdown",
   "metadata": {},
   "source": [
    "# Linear Regression - House Price Prediction"
   ]
  },
  {
   "cell_type": "markdown",
   "metadata": {},
   "source": [
    "**Objective**: To predict  the house price"
   ]
  },
  {
   "cell_type": "markdown",
   "metadata": {},
   "source": [
    " \n",
    "\n",
    "**Outline**:\n",
    "\n",
    "1. **Constructing the Model**\n",
    "\n",
    "    - 1.1 Gradient Descent (GD)\n",
    "    - 1.2 Ordinary Least Square (OLS)\n",
    "    - 1.3 Comparison between GD and OLS\n",
    "    \n",
    "2. **Data Preprocessing**\n",
    "\n",
    "    - 2.1 Descriptive Statistics\n",
    "    - 2.2 Remove Outliers\n",
    "    - 2.3 Correlation Matrix\n",
    "    - 2.4 Encoding\n",
    "    - 2.5 Feature Scaling and Data Splitting\n",
    "\n",
    "3. **Model Evaluation**"
   ]
  },
  {
   "cell_type": "markdown",
   "metadata": {},
   "source": [
    "Dataset from https://www.kaggle.com/datasets/snehasishdhar/simple-house-price-prediction"
   ]
  },
  {
   "cell_type": "code",
   "execution_count": 1,
   "metadata": {},
   "outputs": [],
   "source": [
    "import numpy as np\n",
    "import pandas as pd\n",
    "import matplotlib.pyplot as plt\n",
    "import seaborn as sns\n",
    "\n",
    "from sklearn.model_selection import train_test_split\n",
    "from sklearn.preprocessing import MinMaxScaler\n",
    "from sklearn.metrics import r2_score\n",
    "\n",
    "SEED = 42 # set the random seed to 42 for reproducibility"
   ]
  },
  {
   "cell_type": "markdown",
   "metadata": {},
   "source": [
    "## 1. Constructing the Model"
   ]
  },
  {
   "cell_type": "markdown",
   "metadata": {},
   "source": [
    "### 1.1 Gradient Descent (GD)"
   ]
  },
  {
   "cell_type": "markdown",
   "metadata": {},
   "source": [
    "**Model Outline**:\n",
    "  1. **\\_\\_init\\_\\_** -> for initializing the hyperparameters\n",
    "  2. **fit** -> to fit X_train and y_train into the model to train\n",
    "  3. **predict** -> 1. return the predicted values for gd ; 2. to predict X_test\n",
    "  4. **_add_bias_term** -> to add the bias term x_0 column vector (full of ones)\n",
    "  5. **_initialize** -> to initialize and convert the data structure of the X_train and y_train if necessary\n",
    "  6. **_gradient_descent** -> updating the parameters theta"
   ]
  },
  {
   "cell_type": "code",
   "execution_count": 2,
   "metadata": {},
   "outputs": [],
   "source": [
    "class GDLinearRegression:\n",
    "\n",
    "  # public:\n",
    "  def __init__(self, alpha_learning_rate, iterations): \n",
    "\n",
    "\n",
    "    \"\"\"\n",
    "    Two hyperparmemters in gradient descent:\n",
    "      1. alpha_learning_rate -> control the \"step size\" for optimization\n",
    "      2. iterations -> control the \"number of steps\"\n",
    "\n",
    "    \"\"\"\n",
    "\n",
    "\n",
    "    self.alpha_learning_rate = alpha_learning_rate\n",
    "    self.iterations = iterations\n",
    "\n",
    "    self.trained = False\n",
    "\n",
    "  def fit(self, X, y):\n",
    "\n",
    "\n",
    "    \"\"\"\n",
    "    fit/ train the model:\n",
    "    1. initialize the feature matrix X and target vector y\n",
    "    2. perform _ times gradient descent set in \"iterations\" hyperparameter\n",
    "    3. return the estimated/ trained parameters theta\n",
    "\n",
    "    \"\"\"\n",
    "\n",
    "\n",
    "    self._initialize(X, y)\n",
    "\n",
    "    for _ in range(self.iterations):\n",
    "      self._gradient_descent()\n",
    "\n",
    "    self.trained = True\n",
    "    return self.theta\n",
    "  \n",
    "  def predict(self, X):\n",
    "\n",
    "\n",
    "    \"\"\"\n",
    "    Two scenarios:\n",
    "      1. X_train is passed -> just return the hypothesis function (h) for y_pred to update theta\n",
    "      2. X_test is passed -> add bias term to X_test, then return h\n",
    "\n",
    "    \"\"\"\n",
    "\n",
    "\n",
    "    if self.trained:\n",
    "      X = self._add_bias_term(X)\n",
    "\n",
    "    h = np.dot(X, self.theta)\n",
    "    return h\n",
    "\n",
    "  # private:\n",
    "  def _add_bias_term(self, X):\n",
    "    # x_0 is the column vector with all ones (bias term)\n",
    "    x_0_bias_term = np.ones(X.shape[0]).reshape((-1, 1))  \n",
    "\n",
    "    return np.hstack((X, x_0_bias_term)) \n",
    "\n",
    "  def _initialize(self, X, y):\n",
    "    self.m_samples, self.n_features = X.shape\n",
    "\n",
    "    # add theta_0 for the bias term (intercept)\n",
    "    self.theta = np.zeros(self.n_features + 1).reshape((self.n_features + 1, 1)) \n",
    "\n",
    "    if isinstance(X, pd.DataFrame) or isinstance(X, pd.Series):\n",
    "      self.X = X.to_numpy()\n",
    "    self.X = self._add_bias_term(X) \n",
    "\n",
    "    if isinstance(y, pd.Series):\n",
    "      self.y = y.to_numpy()\n",
    "    self.y = y.reshape((-1, 1))\n",
    "\n",
    "  def _gradient_descent(self):\n",
    "    # gradient of the cost function J\n",
    "    h = self.predict(self.X)\n",
    "    d_J_gradient = (np.dot(self.X.T, (h - self.y))) * (1/ self.m_samples)\n",
    "\n",
    "    # update parameter\n",
    "    self.theta = self.theta - (self.alpha_learning_rate * d_J_gradient)\n"
   ]
  },
  {
   "cell_type": "markdown",
   "metadata": {},
   "source": [
    "### 1.2 Ordinary Least Squares (OLS)"
   ]
  },
  {
   "cell_type": "markdown",
   "metadata": {},
   "source": [
    "**Model Outline**:\n",
    "  1. **\\_\\_init\\_\\_** -> to check if the model has been trained or not\n",
    "  2. **fit** -> to fit X_train and y_train into the model to train\n",
    "  3. **predict** -> to predict X_test using the theta trained with normal equation\n",
    "  4. **_add_bias_term** -> to add the bias term x_0 column vector (full of ones)\n",
    "  5. **_initialize** -> to initialize and convert the data structure of the X_train and y_train if necessary"
   ]
  },
  {
   "cell_type": "code",
   "execution_count": 3,
   "metadata": {},
   "outputs": [],
   "source": [
    "class OLSLinearRegression:\n",
    "  \n",
    "  # public:\n",
    "  def __init__(self):\n",
    "    self.trained = False\n",
    "\n",
    "  def fit(self, X, y):\n",
    "\n",
    "\n",
    "    \"\"\"\n",
    "    Unlike gd, ols doesn't have hyperparameters:\n",
    "    1. initialize X and y\n",
    "    2. substitute X and y into the normal equation\n",
    "    3. return theta\n",
    "    \n",
    "    \"\"\"\n",
    "\n",
    "\n",
    "    self._initialize(X, y)\n",
    "\n",
    "    self.theta = np.dot(np.linalg.inv(np.dot(self.X.T, self.X)), np.dot(self.X.T, y)) # normal equation\n",
    "\n",
    "    self.trained = True\n",
    "    return self.theta\n",
    "  \n",
    "  def predict(self, X):\n",
    "    if self.trained:\n",
    "      X = self._add_bias_term(X)\n",
    "\n",
    "    h = np.dot(X, self.theta)\n",
    "    return h\n",
    "\n",
    "  # private:\n",
    "  def _add_bias_term(self, X):\n",
    "    x_0_bias_term = np.ones(X.shape[0]).reshape((-1, 1))   \n",
    "    return np.hstack((X, x_0_bias_term)) \n",
    "\n",
    "  def _initialize(self, X, y):\n",
    "    self.m_samples, self.n_features = X.shape\n",
    "\n",
    "    self.theta = np.zeros(self.n_features + 1).reshape((self.n_features + 1, 1))\n",
    "\n",
    "    if isinstance(X, pd.DataFrame) or isinstance(X, pd.Series):\n",
    "      X = X.to_numpy()\n",
    "    self.X = self._add_bias_term(X) \n",
    "\n",
    "    if isinstance(y, pd.Series):\n",
    "      y = y.to_numpy()\n",
    "    self.y = y.reshape((-1, 1))"
   ]
  },
  {
   "cell_type": "markdown",
   "metadata": {},
   "source": [
    "### 1.3 Comparison between GD and OLS"
   ]
  },
  {
   "cell_type": "code",
   "execution_count": 4,
   "metadata": {},
   "outputs": [],
   "source": [
    "# 1. prepare testing dataset\n",
    "np.random.seed(42)\n",
    "X = np.linspace(1, 25, 50)\n",
    "y = 2 * X + 3 + np.random.normal(0, 5, 50)\n",
    "\n",
    "X = X.reshape(-1, 1)\n",
    "y = y.reshape(-1, 1)\n",
    "\n",
    "\n",
    "# 2. data splitting (7:3)\n",
    "X_train, X_test, y_train, y_test = train_test_split(X, y, test_size=0.3, random_state=SEED)\n",
    "\n",
    "\n",
    "# 3. training\n",
    "rate, iters = 0.001, 10; new_rate, new_iters = 0.001, 7000\n",
    "\n",
    "gd_lr = GDLinearRegression(rate, iters); new_gd_lr = GDLinearRegression(new_rate,new_iters)\n",
    "ols_lr = OLSLinearRegression()\n",
    "\n",
    "gd_lr.fit(X_train, y_train); new_gd_lr.fit(X_train, y_train)\n",
    "ols_lr.fit(X_train, y_train);\n",
    "\n",
    "\n",
    "# 4. deployment\n",
    "x_lim = np.linspace(0,30,50).reshape(-1,1)\n",
    "\n",
    "gd_y = gd_lr.predict(x_lim); new_gd_y = new_gd_lr.predict(x_lim)\n",
    "ols_y = ols_lr.predict(x_lim)"
   ]
  },
  {
   "cell_type": "code",
   "execution_count": 5,
   "metadata": {},
   "outputs": [
    {
     "data": {
      "image/png": "[encoded data removed]",
      "text/plain": [
       "<Figure size 1100x500 with 2 Axes>"
      ]
     },
     "metadata": {},
     "output_type": "display_data"
    }
   ],
   "source": [
    "# 5. visualization\n",
    "fig, axs = plt.subplots(1, 2, figsize=(11, 5), sharex=True, sharey=True)\n",
    "\n",
    "axs[0].plot(x_lim, ols_y, color='green', label='OLS')\n",
    "axs[0].plot(x_lim, gd_y, color='red', label=\"Gradient Descent\")\n",
    "axs[0].scatter(X,y, color=\"tab:blue\", label=\"train\")\n",
    "axs[0].scatter(X_test,y_test, color=\"tab:orange\", label=\"test\")\n",
    "\n",
    "axs[0].set_title(f\"GD with alpha = {rate} and iter = {iters}\")\n",
    "axs[0].legend();\n",
    "\n",
    "axs[1].plot(x_lim, ols_y, color='green', label='OLS')\n",
    "axs[1].plot(x_lim, new_gd_y, color='red', label=\"Gradient Descent\")\n",
    "axs[1].scatter(X,y, color=\"tab:blue\", label=\"train\")\n",
    "axs[1].scatter(X_test,y_test, color=\"tab:orange\", label=\"test\")\n",
    "\n",
    "axs[1].set_title(f\"GD with alpha = {new_rate} and iter = {new_iters}\")\n",
    "axs[1].legend();\n",
    "\n",
    "fig.suptitle(\"Comparison between GD and OLS\");"
   ]
  },
  {
   "cell_type": "markdown",
   "metadata": {},
   "source": [
    "Since OLS is a analytical solution which directly computes the global minimum, it is the optimum solution under the assumptions made in maximum likelihood estimation (MLE), e.g. idependent and identical distribution (IID) of error terms. \n",
    "\n",
    "Therefore, for iterative solution like GD, the more iterations, the solution/ regression line is closer to OLS. "
   ]
  },
  {
   "cell_type": "markdown",
   "metadata": {},
   "source": [
    "## 2. Data Preprocessing"
   ]
  },
  {
   "cell_type": "markdown",
   "metadata": {},
   "source": [
    "### 2.1 Desriptive Statistics "
   ]
  },
  {
   "cell_type": "code",
   "execution_count": 6,
   "metadata": {},
   "outputs": [
    {
     "data": {
      "text/html": [
       "<div>\n",
       "<style scoped>\n",
       "    .dataframe tbody tr th:only-of-type {\n",
       "        vertical-align: middle;\n",
       "    }\n",
       "\n",
       "    .dataframe tbody tr th {\n",
       "        vertical-align: top;\n",
       "    }\n",
       "\n",
       "    .dataframe thead th {\n",
       "        text-align: right;\n",
       "    }\n",
       "</style>\n",
       "<table border=\"1\" class=\"dataframe\">\n",
       "  <thead>\n",
       "    <tr style=\"text-align: right;\">\n",
       "      <th></th>\n",
       "      <th>area</th>\n",
       "      <th>rooms</th>\n",
       "      <th>price</th>\n",
       "    </tr>\n",
       "  </thead>\n",
       "  <tbody>\n",
       "    <tr>\n",
       "      <th>0</th>\n",
       "      <td>2104</td>\n",
       "      <td>3</td>\n",
       "      <td>399900</td>\n",
       "    </tr>\n",
       "    <tr>\n",
       "      <th>1</th>\n",
       "      <td>1600</td>\n",
       "      <td>3</td>\n",
       "      <td>329900</td>\n",
       "    </tr>\n",
       "    <tr>\n",
       "      <th>2</th>\n",
       "      <td>2400</td>\n",
       "      <td>3</td>\n",
       "      <td>369000</td>\n",
       "    </tr>\n",
       "    <tr>\n",
       "      <th>3</th>\n",
       "      <td>1416</td>\n",
       "      <td>2</td>\n",
       "      <td>232000</td>\n",
       "    </tr>\n",
       "    <tr>\n",
       "      <th>4</th>\n",
       "      <td>3000</td>\n",
       "      <td>4</td>\n",
       "      <td>539900</td>\n",
       "    </tr>\n",
       "  </tbody>\n",
       "</table>\n",
       "</div>"
      ],
      "text/plain": [
       "   area  rooms   price\n",
       "0  2104      3  399900\n",
       "1  1600      3  329900\n",
       "2  2400      3  369000\n",
       "3  1416      2  232000\n",
       "4  3000      4  539900"
      ]
     },
     "execution_count": 6,
     "metadata": {},
     "output_type": "execute_result"
    }
   ],
   "source": [
    "df = pd.read_csv(\"price_data.csv\")\n",
    "df.head()"
   ]
  },
  {
   "cell_type": "code",
   "execution_count": 7,
   "metadata": {},
   "outputs": [
    {
     "name": "stdout",
     "output_type": "stream",
     "text": [
      "<class 'pandas.core.frame.DataFrame'>\n",
      "RangeIndex: 47 entries, 0 to 46\n",
      "Data columns (total 3 columns):\n",
      " #   Column  Non-Null Count  Dtype\n",
      "---  ------  --------------  -----\n",
      " 0   area    47 non-null     int64\n",
      " 1   rooms   47 non-null     int64\n",
      " 2   price   47 non-null     int64\n",
      "dtypes: int64(3)\n",
      "memory usage: 1.2 KB\n"
     ]
    }
   ],
   "source": [
    "df.info()"
   ]
  },
  {
   "cell_type": "code",
   "execution_count": 8,
   "metadata": {},
   "outputs": [
    {
     "data": {
      "text/html": [
       "<div>\n",
       "<style scoped>\n",
       "    .dataframe tbody tr th:only-of-type {\n",
       "        vertical-align: middle;\n",
       "    }\n",
       "\n",
       "    .dataframe tbody tr th {\n",
       "        vertical-align: top;\n",
       "    }\n",
       "\n",
       "    .dataframe thead th {\n",
       "        text-align: right;\n",
       "    }\n",
       "</style>\n",
       "<table border=\"1\" class=\"dataframe\">\n",
       "  <thead>\n",
       "    <tr style=\"text-align: right;\">\n",
       "      <th></th>\n",
       "      <th>area</th>\n",
       "      <th>rooms</th>\n",
       "      <th>price</th>\n",
       "    </tr>\n",
       "  </thead>\n",
       "  <tbody>\n",
       "    <tr>\n",
       "      <th>count</th>\n",
       "      <td>47.000000</td>\n",
       "      <td>47.000000</td>\n",
       "      <td>47.000000</td>\n",
       "    </tr>\n",
       "    <tr>\n",
       "      <th>mean</th>\n",
       "      <td>2000.680851</td>\n",
       "      <td>3.170213</td>\n",
       "      <td>340412.659574</td>\n",
       "    </tr>\n",
       "    <tr>\n",
       "      <th>std</th>\n",
       "      <td>794.702354</td>\n",
       "      <td>0.760982</td>\n",
       "      <td>125039.899586</td>\n",
       "    </tr>\n",
       "    <tr>\n",
       "      <th>min</th>\n",
       "      <td>852.000000</td>\n",
       "      <td>1.000000</td>\n",
       "      <td>169900.000000</td>\n",
       "    </tr>\n",
       "    <tr>\n",
       "      <th>25%</th>\n",
       "      <td>1432.000000</td>\n",
       "      <td>3.000000</td>\n",
       "      <td>249900.000000</td>\n",
       "    </tr>\n",
       "    <tr>\n",
       "      <th>50%</th>\n",
       "      <td>1888.000000</td>\n",
       "      <td>3.000000</td>\n",
       "      <td>299900.000000</td>\n",
       "    </tr>\n",
       "    <tr>\n",
       "      <th>75%</th>\n",
       "      <td>2269.000000</td>\n",
       "      <td>4.000000</td>\n",
       "      <td>384450.000000</td>\n",
       "    </tr>\n",
       "    <tr>\n",
       "      <th>max</th>\n",
       "      <td>4478.000000</td>\n",
       "      <td>5.000000</td>\n",
       "      <td>699900.000000</td>\n",
       "    </tr>\n",
       "  </tbody>\n",
       "</table>\n",
       "</div>"
      ],
      "text/plain": [
       "              area      rooms          price\n",
       "count    47.000000  47.000000      47.000000\n",
       "mean   2000.680851   3.170213  340412.659574\n",
       "std     794.702354   0.760982  125039.899586\n",
       "min     852.000000   1.000000  169900.000000\n",
       "25%    1432.000000   3.000000  249900.000000\n",
       "50%    1888.000000   3.000000  299900.000000\n",
       "75%    2269.000000   4.000000  384450.000000\n",
       "max    4478.000000   5.000000  699900.000000"
      ]
     },
     "execution_count": 8,
     "metadata": {},
     "output_type": "execute_result"
    }
   ],
   "source": [
    "df.describe()"
   ]
  },
  {
   "cell_type": "markdown",
   "metadata": {},
   "source": [
    "### 2.2 Remove Outliers"
   ]
  },
  {
   "cell_type": "markdown",
   "metadata": {},
   "source": [
    "We use IQR to remove the outliers because linear regression is very sensitive to outliers."
   ]
  },
  {
   "cell_type": "code",
   "execution_count": 9,
   "metadata": {},
   "outputs": [
    {
     "name": "stdout",
     "output_type": "stream",
     "text": [
      "4 samples have been removed, remaining 43 samples.\n"
     ]
    }
   ],
   "source": [
    "original_len = len(df)\n",
    "\n",
    "for col in ['price', 'area']:\n",
    "    q1 = df[col].quantile(0.25)\n",
    "    q3 = df[col].quantile(0.75)\n",
    "    iqr = q3 - q1\n",
    "    \n",
    "    lower = q1 - 1.5 * iqr\n",
    "    upper = q3 + 1.5 * iqr\n",
    "    \n",
    "    df = df[(df[col] >= lower) & (df[col] <= upper)]\n",
    "\n",
    "new_len = len(df)\n",
    "\n",
    "print(f\"{original_len - new_len} samples have been removed, remaining {new_len} samples.\")"
   ]
  },
  {
   "cell_type": "markdown",
   "metadata": {},
   "source": [
    "### 2.3 Correlation Matrix"
   ]
  },
  {
   "cell_type": "markdown",
   "metadata": {},
   "source": [
    "To visualize the correlation between the features and target with a correlation matrix. Too low implies that the feature has a low predictive power, but too high may also lead to the multicollinearity problem."
   ]
  },
  {
   "cell_type": "code",
   "execution_count": 10,
   "metadata": {},
   "outputs": [
    {
     "data": {
      "image/png": "[encoded data removed]",
      "text/plain": [
       "<Figure size 640x480 with 2 Axes>"
      ]
     },
     "metadata": {},
     "output_type": "display_data"
    }
   ],
   "source": [
    "sns.heatmap(df.corr(), annot=True, cmap='Blues')\n",
    "plt.title(\"Correlation Matrix\");"
   ]
  },
  {
   "cell_type": "markdown",
   "metadata": {},
   "source": [
    "Shown in this matrix, all of them have moderate correlation, so no further preprocessing is needed."
   ]
  },
  {
   "cell_type": "markdown",
   "metadata": {},
   "source": [
    "### 2.4 Encoding"
   ]
  },
  {
   "cell_type": "markdown",
   "metadata": {},
   "source": [
    "Since we will treat number of rooms as categorical variables, we use one-hot encoding to convert them into binary."
   ]
  },
  {
   "cell_type": "code",
   "execution_count": 11,
   "metadata": {},
   "outputs": [
    {
     "data": {
      "text/html": [
       "<div>\n",
       "<style scoped>\n",
       "    .dataframe tbody tr th:only-of-type {\n",
       "        vertical-align: middle;\n",
       "    }\n",
       "\n",
       "    .dataframe tbody tr th {\n",
       "        vertical-align: top;\n",
       "    }\n",
       "\n",
       "    .dataframe thead th {\n",
       "        text-align: right;\n",
       "    }\n",
       "</style>\n",
       "<table border=\"1\" class=\"dataframe\">\n",
       "  <thead>\n",
       "    <tr style=\"text-align: right;\">\n",
       "      <th></th>\n",
       "      <th>area</th>\n",
       "      <th>price</th>\n",
       "      <th>rooms_1</th>\n",
       "      <th>rooms_2</th>\n",
       "      <th>rooms_3</th>\n",
       "      <th>rooms_4</th>\n",
       "    </tr>\n",
       "  </thead>\n",
       "  <tbody>\n",
       "    <tr>\n",
       "      <th>0</th>\n",
       "      <td>2104</td>\n",
       "      <td>399900</td>\n",
       "      <td>0</td>\n",
       "      <td>0</td>\n",
       "      <td>1</td>\n",
       "      <td>0</td>\n",
       "    </tr>\n",
       "    <tr>\n",
       "      <th>1</th>\n",
       "      <td>1600</td>\n",
       "      <td>329900</td>\n",
       "      <td>0</td>\n",
       "      <td>0</td>\n",
       "      <td>1</td>\n",
       "      <td>0</td>\n",
       "    </tr>\n",
       "    <tr>\n",
       "      <th>2</th>\n",
       "      <td>2400</td>\n",
       "      <td>369000</td>\n",
       "      <td>0</td>\n",
       "      <td>0</td>\n",
       "      <td>1</td>\n",
       "      <td>0</td>\n",
       "    </tr>\n",
       "    <tr>\n",
       "      <th>3</th>\n",
       "      <td>1416</td>\n",
       "      <td>232000</td>\n",
       "      <td>0</td>\n",
       "      <td>1</td>\n",
       "      <td>0</td>\n",
       "      <td>0</td>\n",
       "    </tr>\n",
       "    <tr>\n",
       "      <th>4</th>\n",
       "      <td>3000</td>\n",
       "      <td>539900</td>\n",
       "      <td>0</td>\n",
       "      <td>0</td>\n",
       "      <td>0</td>\n",
       "      <td>1</td>\n",
       "    </tr>\n",
       "  </tbody>\n",
       "</table>\n",
       "</div>"
      ],
      "text/plain": [
       "   area   price  rooms_1  rooms_2  rooms_3  rooms_4\n",
       "0  2104  399900        0        0        1        0\n",
       "1  1600  329900        0        0        1        0\n",
       "2  2400  369000        0        0        1        0\n",
       "3  1416  232000        0        1        0        0\n",
       "4  3000  539900        0        0        0        1"
      ]
     },
     "execution_count": 11,
     "metadata": {},
     "output_type": "execute_result"
    }
   ],
   "source": [
    "df = pd.get_dummies(df, columns=['rooms'])\n",
    "df.head()"
   ]
  },
  {
   "cell_type": "code",
   "execution_count": 12,
   "metadata": {},
   "outputs": [
    {
     "name": "stdout",
     "output_type": "stream",
     "text": [
      "(43, 5) (43,)\n"
     ]
    }
   ],
   "source": [
    "X = df[['area', 'rooms_1', 'rooms_2', 'rooms_3', 'rooms_4']]\n",
    "y = df['price']\n",
    "print(X.shape, y.shape)"
   ]
  },
  {
   "cell_type": "markdown",
   "metadata": {},
   "source": [
    "### 2.5. Feature Scaling and Data Splitting"
   ]
  },
  {
   "cell_type": "markdown",
   "metadata": {},
   "source": [
    "Since the values of area and price are vastly different (1,000 vs 100,000), we need to do feature scaling to prevent numerical instability and improve convergence efficiency in gd. "
   ]
  },
  {
   "cell_type": "code",
   "execution_count": 13,
   "metadata": {},
   "outputs": [],
   "source": [
    "scaler = MinMaxScaler()\n",
    "\n",
    "X = scaler.fit_transform(X)\n",
    "y = scaler.fit_transform(y.to_numpy().reshape((-1,1)))"
   ]
  },
  {
   "cell_type": "markdown",
   "metadata": {},
   "source": [
    "To split the dataset into training and testing sets."
   ]
  },
  {
   "cell_type": "code",
   "execution_count": 14,
   "metadata": {},
   "outputs": [
    {
     "name": "stdout",
     "output_type": "stream",
     "text": [
      "(30, 5) (30, 1)\n"
     ]
    }
   ],
   "source": [
    "X_train, X_test, y_train, y_test = train_test_split(X, y, test_size=0.3, random_state=SEED)\n",
    "\n",
    "print(X_train.shape, y_train.shape)"
   ]
  },
  {
   "cell_type": "markdown",
   "metadata": {},
   "source": [
    "## 3. Model Evaluation"
   ]
  },
  {
   "cell_type": "markdown",
   "metadata": {},
   "source": [
    "A simple performance comparison between my model (GD) and sklearn's model using the R-squared metrics."
   ]
  },
  {
   "cell_type": "code",
   "execution_count": 15,
   "metadata": {},
   "outputs": [
    {
     "name": "stdout",
     "output_type": "stream",
     "text": [
      "The r2 score of my model is 0.6033725399701585\n"
     ]
    }
   ],
   "source": [
    "model = GDLinearRegression(0.1, 10000) # initialize\n",
    "model.fit(X_train, y_train) # train\n",
    "y_pred = model.predict(X_test) # predict\n",
    "\n",
    "my_model_score = r2_score(y_test, y_pred)\n",
    "print(f\"The r2 score of my model is {my_model_score}\")"
   ]
  },
  {
   "cell_type": "code",
   "execution_count": 16,
   "metadata": {},
   "outputs": [
    {
     "name": "stdout",
     "output_type": "stream",
     "text": [
      "The r2 score of sklearn's model is 0.6033725399701794\n"
     ]
    }
   ],
   "source": [
    "from sklearn.linear_model import LinearRegression\n",
    "\n",
    "model = LinearRegression() # initialize\n",
    "model.fit(X_train, y_train) # train\n",
    "y_pred = model.predict(X_test) # predict\n",
    "\n",
    "sklearn_model_score = r2_score(y_test, y_pred)\n",
    "print(f\"The r2 score of sklearn's model is {sklearn_model_score}\")"
   ]
  },
  {
   "cell_type": "markdown",
   "metadata": {},
   "source": [
    "Convert the data back into original scale and check the difference between true (y_test) and predicted values (y_pred)."
   ]
  },
  {
   "cell_type": "code",
   "execution_count": 17,
   "metadata": {},
   "outputs": [
    {
     "name": "stdout",
     "output_type": "stream",
     "text": [
      "True Value: 373540; Predicted Value: 329900; Difference: 43640 \n",
      "\n",
      "True Value: 412020; Predicted Value: 469000; Difference: 56980 \n",
      "\n",
      "True Value: 368463; Predicted Value: 475000; Difference: 106537 \n",
      "\n",
      "True Value: 286441; Predicted Value: 368500; Difference: 82059 \n",
      "\n",
      "True Value: 326100; Predicted Value: 345000; Difference: 18900 \n",
      "\n",
      "True Value: 234854; Predicted Value: 299000; Difference: 64146 \n",
      "\n",
      "True Value: 442072; Predicted Value: 539900; Difference: 97828 \n",
      "\n",
      "True Value: 327044; Predicted Value: 329999; Difference: 2955 \n",
      "\n",
      "True Value: 258904; Predicted Value: 212000; Difference: 46904 \n",
      "\n",
      "True Value: 253306; Predicted Value: 232000; Difference: 21306 \n",
      "\n",
      "True Value: 279480; Predicted Value: 314900; Difference: 35420 \n",
      "\n",
      "True Value: 309822; Predicted Value: 349900; Difference: 40078 \n",
      "\n",
      "True Value: 283211; Predicted Value: 285900; Difference: 2689 \n",
      "\n"
     ]
    }
   ],
   "source": [
    "rev_y_pred = scaler.inverse_transform(y_pred).ravel().astype(int).tolist()\n",
    "rev_y_test = scaler.inverse_transform(y_test).ravel().astype(int).tolist()\n",
    "\n",
    "lst = list(zip(rev_y_pred, rev_y_test))\n",
    "for i in range(len(lst)):\n",
    "  print(f\"True Value: {lst[i][0]}; Predicted Value: {lst[i][1]}; Difference: {abs(lst[i][0] - lst[i][1])} \\n\")"
   ]
  }
 ],
 "metadata": {
  "kernelspec": {
   "display_name": "base",
   "language": "python",
   "name": "python3"
  },
  "language_info": {
   "codemirror_mode": {
    "name": "ipython",
    "version": 3
   },
   "file_extension": ".py",
   "mimetype": "text/x-python",
   "name": "python",
   "nbconvert_exporter": "python",
   "pygments_lexer": "ipython3",
   "version": "3.11.4"
  }
 },
 "nbformat": 4,
 "nbformat_minor": 2
}
