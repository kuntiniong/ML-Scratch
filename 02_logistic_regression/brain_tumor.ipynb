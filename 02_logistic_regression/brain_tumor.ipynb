{
 "cells": [
  {
   "cell_type": "markdown",
   "metadata": {},
   "source": [
    "# Logistic Regression - Brain Tumor Classification"
   ]
  },
  {
   "cell_type": "markdown",
   "metadata": {},
   "source": [
    "**Objective**: To classify if the brain tumor is non-cancerous (0) or cancerous (1)"
   ]
  },
  {
   "cell_type": "markdown",
   "metadata": {},
   "source": [
    "**Outline**: \n",
    "\n",
    "1. **Constructing the Model** \n",
    "\n",
    "    - 1.1 Logistic Regression Model\n",
    "    - 1.2 Model Testing \n",
    "    \n",
    "2. **Data Preprocessing**\n",
    "\n",
    "    - 2.1 Descriptive Statistics\n",
    "    - 2.2 Data Scaling and Splitting\n",
    "\n",
    "3. **Model Evaluation**"
   ]
  },
  {
   "cell_type": "markdown",
   "metadata": {},
   "source": [
    "Dataset from  https://www.kaggle.com/datasets/jakeshbohaju/brain-tumor"
   ]
  },
  {
   "cell_type": "code",
   "execution_count": 11,
   "metadata": {},
   "outputs": [],
   "source": [
    "import numpy as np\n",
    "import pandas as pd\n",
    "import matplotlib.pyplot as plt\n",
    "\n",
    "from sklearn.model_selection import train_test_split\n",
    "from sklearn.preprocessing import StandardScaler\n",
    "from sklearn.metrics import accuracy_score\n",
    "\n",
    "SEED = 42 # set the random seed to 42 for reproducibility"
   ]
  },
  {
   "cell_type": "markdown",
   "metadata": {},
   "source": [
    "## 1. Constructing the Model"
   ]
  },
  {
   "cell_type": "markdown",
   "metadata": {},
   "source": [
    "### 1.1 Logistic Regression Model"
   ]
  },
  {
   "cell_type": "markdown",
   "metadata": {},
   "source": [
    "**Model Outline**:\n",
    "  1. **\\_\\_init\\_\\_** -> for initializing the hyperparameters\n",
    "  2. **fit** -> to fit X_train and y_train into the model to train\n",
    "  3. **predict** -> 1. return the predicted class; 2. to predict X_test (probability)\n",
    "  4. **_add_bias_term** -> to add the bias term x_0 column vector (full of ones)\n",
    "  5. **_initialize** -> to initialize and convert the data structure of the X_train and y_train if necessary\n",
    "  6. **_gradient_descent** -> updating the parameters theta"
   ]
  },
  {
   "cell_type": "code",
   "execution_count": 12,
   "metadata": {},
   "outputs": [],
   "source": [
    "class GDLogisticRegression:\n",
    "\n",
    "  # public:\n",
    "  def __init__(self, alpha_learning_rate, iterations): \n",
    "\n",
    "\n",
    "    \"\"\"\n",
    "    Two hyperparmemters in gradient descent:\n",
    "      1. alpha_learning_rate -> control the \"step size\" for optimization\n",
    "      2. iterations -> control the \"number of steps\"\n",
    "\n",
    "    \"\"\"\n",
    "        \n",
    "\n",
    "    self.alpha_learning_rate = alpha_learning_rate\n",
    "    self.iterations = iterations\n",
    "\n",
    "    self.trained = False\n",
    "\n",
    "  def fit(self, X, y):\n",
    "\n",
    "\n",
    "    \"\"\"\n",
    "    fit/ train the model:\n",
    "    1. initialize the feature matrix X and target vector y\n",
    "    2. perform _ times gradient ascent set in \"iterations\" hyperparameter\n",
    "    3. return the estimated/ trained parameters theta\n",
    "\n",
    "    \"\"\"\n",
    "        \n",
    "\n",
    "    self._initialize(X, y)\n",
    "\n",
    "    for _ in range(self.iterations):\n",
    "      self._gradient_ascent()\n",
    "\n",
    "    self.trained = True\n",
    "    return self.theta\n",
    "  \n",
    "  def predict(self, X, prob = False):\n",
    "\n",
    "\n",
    "    \"\"\"\n",
    "    Two scenarios:\n",
    "      1. X_train is passed -> just return the hypothesis function (h) for y_pred to update theta\n",
    "      2. X_test is passed -> add bias term to X_test, then return h\n",
    "\n",
    "    \"\"\"\n",
    "        \n",
    "\n",
    "    if self.trained:\n",
    "      X = self._add_bias_term(X)\n",
    "      h = self._sigmoid(np.dot(X, self.theta))\n",
    "\n",
    "      return h if prob else np.where(h < 0.5, 0, 1)\n",
    "    \n",
    "    else:\n",
    "      h = np.dot(X, self.theta)\n",
    "      return h\n",
    "\n",
    "  # private:\n",
    "  def _sigmoid(self, z):\n",
    "    return 1 / (1+np.exp(-z))\n",
    "\n",
    "  def _add_bias_term(self, X):\n",
    "    x_0_bias_term = np.ones(X.shape[0]).reshape((-1, 1))   \n",
    "    return np.hstack((X, x_0_bias_term)) \n",
    "\n",
    "  def _initialize(self, X, y):\n",
    "    self.m_samples, self.n_features = X.shape\n",
    "\n",
    "    self.theta = np.zeros(self.n_features + 1).reshape((self.n_features + 1, 1))\n",
    "    \n",
    "    if isinstance(X, pd.DataFrame) or isinstance(X, pd.Series):\n",
    "      X = X.to_numpy()\n",
    "    self.X = self._add_bias_term(X) \n",
    "\n",
    "    if isinstance(y, pd.Series):\n",
    "      y = y.to_numpy()\n",
    "    self.y = y.reshape((-1, 1))\n",
    "\n",
    "  def _gradient_ascent(self):\n",
    "    # gradient of the cost function J\n",
    "    h = self.predict(self.X)\n",
    "    d_J_gradient = (np.dot(self.X.T, (self.y - self._sigmoid(h)))) * (1/ self.m_samples)\n",
    "\n",
    "    # update parameter\n",
    "    self.theta = self.theta + (self.alpha_learning_rate * d_J_gradient)"
   ]
  },
  {
   "cell_type": "markdown",
   "metadata": {},
   "source": [
    "### 1.2 Model Testing"
   ]
  },
  {
   "cell_type": "code",
   "execution_count": 13,
   "metadata": {},
   "outputs": [],
   "source": [
    "# 1. prepare testing dataset\n",
    "np.random.seed(SEED)\n",
    "\n",
    "X = np.random.normal(loc=0, scale=1, size=(150, 1))\n",
    "\n",
    "p = 1/(1+np.exp(-X)) \n",
    "y = np.where(p < 0.5, 0, 1) # map to binary\n",
    "\n",
    "noise = np.random.normal(loc=0, scale=0.3, size=(150, 1)) # add noise\n",
    "y = np.where(y+noise < 0.5, 0, 1) # map back to binary\n",
    "\n",
    "\n",
    "# 2. data splitting (7:3)\n",
    "X_train, X_test, y_train, y_test = train_test_split(X, y, test_size=0.3, random_state=SEED)\n",
    "\n",
    "\n",
    "# 3. training\n",
    "rate, iters = 0.01, 10000\n",
    "lr = GDLogisticRegression(alpha_learning_rate=rate, iterations=iters)\n",
    "lr.fit(X_train, y_train)\n",
    "\n",
    "\n",
    "# 4. testing\n",
    "x_proba = np.linspace(-3,3,200).reshape((-1,1))\n",
    "y_pred_proba = lr.predict(x_proba, prob=True)\n",
    "\n",
    "y_pred = lr.predict(X_test)"
   ]
  },
  {
   "cell_type": "code",
   "execution_count": 14,
   "metadata": {},
   "outputs": [
    {
     "data": {
      "image/png": "[encoded data removed]",
      "text/plain": [
       "<Figure size 640x480 with 1 Axes>"
      ]
     },
     "metadata": {},
     "output_type": "display_data"
    }
   ],
   "source": [
    "# 5. visualization\n",
    "plt.title(f\"Logistic Regression with alpha={rate} and iter={iters}\")\n",
    "\n",
    "plt.plot(x_proba, y_pred_proba, color='black') # sigmoid curve\n",
    "\n",
    "plt.scatter(X_test, y_test, color='green', label=\"true\", alpha=0.5)\n",
    "plt.scatter(X_test, y_pred, color='red', label=\"predict\", alpha=0.5)\n",
    "\n",
    "plt.legend();"
   ]
  },
  {
   "cell_type": "markdown",
   "metadata": {},
   "source": [
    "## 2. Data Preprocessing"
   ]
  },
  {
   "cell_type": "markdown",
   "metadata": {},
   "source": [
    "### 2.1 Descriptive Statistics"
   ]
  },
  {
   "cell_type": "code",
   "execution_count": 15,
   "metadata": {},
   "outputs": [
    {
     "data": {
      "text/html": [
       "<div>\n",
       "<style scoped>\n",
       "    .dataframe tbody tr th:only-of-type {\n",
       "        vertical-align: middle;\n",
       "    }\n",
       "\n",
       "    .dataframe tbody tr th {\n",
       "        vertical-align: top;\n",
       "    }\n",
       "\n",
       "    .dataframe thead th {\n",
       "        text-align: right;\n",
       "    }\n",
       "</style>\n",
       "<table border=\"1\" class=\"dataframe\">\n",
       "  <thead>\n",
       "    <tr style=\"text-align: right;\">\n",
       "      <th></th>\n",
       "      <th>Image</th>\n",
       "      <th>Class</th>\n",
       "      <th>Mean</th>\n",
       "      <th>Variance</th>\n",
       "      <th>Standard Deviation</th>\n",
       "      <th>Entropy</th>\n",
       "      <th>Skewness</th>\n",
       "      <th>Kurtosis</th>\n",
       "      <th>Contrast</th>\n",
       "      <th>Energy</th>\n",
       "      <th>ASM</th>\n",
       "      <th>Homogeneity</th>\n",
       "      <th>Dissimilarity</th>\n",
       "      <th>Correlation</th>\n",
       "      <th>Coarseness</th>\n",
       "    </tr>\n",
       "  </thead>\n",
       "  <tbody>\n",
       "    <tr>\n",
       "      <th>0</th>\n",
       "      <td>Image1</td>\n",
       "      <td>0</td>\n",
       "      <td>6.535339</td>\n",
       "      <td>619.587845</td>\n",
       "      <td>24.891522</td>\n",
       "      <td>0.109059</td>\n",
       "      <td>4.276477</td>\n",
       "      <td>18.900575</td>\n",
       "      <td>98.613971</td>\n",
       "      <td>0.293314</td>\n",
       "      <td>0.086033</td>\n",
       "      <td>0.530941</td>\n",
       "      <td>4.473346</td>\n",
       "      <td>0.981939</td>\n",
       "      <td>7.458341e-155</td>\n",
       "    </tr>\n",
       "    <tr>\n",
       "      <th>1</th>\n",
       "      <td>Image2</td>\n",
       "      <td>0</td>\n",
       "      <td>8.749969</td>\n",
       "      <td>805.957634</td>\n",
       "      <td>28.389393</td>\n",
       "      <td>0.266538</td>\n",
       "      <td>3.718116</td>\n",
       "      <td>14.464618</td>\n",
       "      <td>63.858816</td>\n",
       "      <td>0.475051</td>\n",
       "      <td>0.225674</td>\n",
       "      <td>0.651352</td>\n",
       "      <td>3.220072</td>\n",
       "      <td>0.988834</td>\n",
       "      <td>7.458341e-155</td>\n",
       "    </tr>\n",
       "    <tr>\n",
       "      <th>2</th>\n",
       "      <td>Image3</td>\n",
       "      <td>1</td>\n",
       "      <td>7.341095</td>\n",
       "      <td>1143.808219</td>\n",
       "      <td>33.820234</td>\n",
       "      <td>0.001467</td>\n",
       "      <td>5.061750</td>\n",
       "      <td>26.479563</td>\n",
       "      <td>81.867206</td>\n",
       "      <td>0.031917</td>\n",
       "      <td>0.001019</td>\n",
       "      <td>0.268275</td>\n",
       "      <td>5.981800</td>\n",
       "      <td>0.978014</td>\n",
       "      <td>7.458341e-155</td>\n",
       "    </tr>\n",
       "    <tr>\n",
       "      <th>3</th>\n",
       "      <td>Image4</td>\n",
       "      <td>1</td>\n",
       "      <td>5.958145</td>\n",
       "      <td>959.711985</td>\n",
       "      <td>30.979219</td>\n",
       "      <td>0.001477</td>\n",
       "      <td>5.677977</td>\n",
       "      <td>33.428845</td>\n",
       "      <td>151.229741</td>\n",
       "      <td>0.032024</td>\n",
       "      <td>0.001026</td>\n",
       "      <td>0.243851</td>\n",
       "      <td>7.700919</td>\n",
       "      <td>0.964189</td>\n",
       "      <td>7.458341e-155</td>\n",
       "    </tr>\n",
       "    <tr>\n",
       "      <th>4</th>\n",
       "      <td>Image5</td>\n",
       "      <td>0</td>\n",
       "      <td>7.315231</td>\n",
       "      <td>729.540579</td>\n",
       "      <td>27.010009</td>\n",
       "      <td>0.146761</td>\n",
       "      <td>4.283221</td>\n",
       "      <td>19.079108</td>\n",
       "      <td>174.988756</td>\n",
       "      <td>0.343849</td>\n",
       "      <td>0.118232</td>\n",
       "      <td>0.501140</td>\n",
       "      <td>6.834689</td>\n",
       "      <td>0.972789</td>\n",
       "      <td>7.458341e-155</td>\n",
       "    </tr>\n",
       "  </tbody>\n",
       "</table>\n",
       "</div>"
      ],
      "text/plain": [
       "    Image  Class      Mean     Variance  Standard Deviation   Entropy  \\\n",
       "0  Image1      0  6.535339   619.587845           24.891522  0.109059   \n",
       "1  Image2      0  8.749969   805.957634           28.389393  0.266538   \n",
       "2  Image3      1  7.341095  1143.808219           33.820234  0.001467   \n",
       "3  Image4      1  5.958145   959.711985           30.979219  0.001477   \n",
       "4  Image5      0  7.315231   729.540579           27.010009  0.146761   \n",
       "\n",
       "   Skewness   Kurtosis    Contrast    Energy       ASM  Homogeneity  \\\n",
       "0  4.276477  18.900575   98.613971  0.293314  0.086033     0.530941   \n",
       "1  3.718116  14.464618   63.858816  0.475051  0.225674     0.651352   \n",
       "2  5.061750  26.479563   81.867206  0.031917  0.001019     0.268275   \n",
       "3  5.677977  33.428845  151.229741  0.032024  0.001026     0.243851   \n",
       "4  4.283221  19.079108  174.988756  0.343849  0.118232     0.501140   \n",
       "\n",
       "   Dissimilarity  Correlation     Coarseness  \n",
       "0       4.473346     0.981939  7.458341e-155  \n",
       "1       3.220072     0.988834  7.458341e-155  \n",
       "2       5.981800     0.978014  7.458341e-155  \n",
       "3       7.700919     0.964189  7.458341e-155  \n",
       "4       6.834689     0.972789  7.458341e-155  "
      ]
     },
     "execution_count": 15,
     "metadata": {},
     "output_type": "execute_result"
    }
   ],
   "source": [
    "df = pd.read_csv(\"tumor_data.csv\")\n",
    "df.head()"
   ]
  },
  {
   "cell_type": "code",
   "execution_count": 16,
   "metadata": {},
   "outputs": [
    {
     "name": "stdout",
     "output_type": "stream",
     "text": [
      "<class 'pandas.core.frame.DataFrame'>\n",
      "RangeIndex: 3762 entries, 0 to 3761\n",
      "Data columns (total 14 columns):\n",
      " #   Column              Non-Null Count  Dtype  \n",
      "---  ------              --------------  -----  \n",
      " 0   Class               3762 non-null   int64  \n",
      " 1   Mean                3762 non-null   float64\n",
      " 2   Variance            3762 non-null   float64\n",
      " 3   Standard Deviation  3762 non-null   float64\n",
      " 4   Entropy             3762 non-null   float64\n",
      " 5   Skewness            3762 non-null   float64\n",
      " 6   Kurtosis            3762 non-null   float64\n",
      " 7   Contrast            3762 non-null   float64\n",
      " 8   Energy              3762 non-null   float64\n",
      " 9   ASM                 3762 non-null   float64\n",
      " 10  Homogeneity         3762 non-null   float64\n",
      " 11  Dissimilarity       3762 non-null   float64\n",
      " 12  Correlation         3762 non-null   float64\n",
      " 13  Coarseness          3762 non-null   float64\n",
      "dtypes: float64(13), int64(1)\n",
      "memory usage: 411.6 KB\n"
     ]
    }
   ],
   "source": [
    "df.drop(columns=['Image'], inplace=True)\n",
    "df.info()"
   ]
  },
  {
   "cell_type": "code",
   "execution_count": 17,
   "metadata": {},
   "outputs": [
    {
     "data": {
      "text/html": [
       "<div>\n",
       "<style scoped>\n",
       "    .dataframe tbody tr th:only-of-type {\n",
       "        vertical-align: middle;\n",
       "    }\n",
       "\n",
       "    .dataframe tbody tr th {\n",
       "        vertical-align: top;\n",
       "    }\n",
       "\n",
       "    .dataframe thead th {\n",
       "        text-align: right;\n",
       "    }\n",
       "</style>\n",
       "<table border=\"1\" class=\"dataframe\">\n",
       "  <thead>\n",
       "    <tr style=\"text-align: right;\">\n",
       "      <th></th>\n",
       "      <th>Class</th>\n",
       "      <th>Mean</th>\n",
       "      <th>Variance</th>\n",
       "      <th>Standard Deviation</th>\n",
       "      <th>Entropy</th>\n",
       "      <th>Skewness</th>\n",
       "      <th>Kurtosis</th>\n",
       "      <th>Contrast</th>\n",
       "      <th>Energy</th>\n",
       "      <th>ASM</th>\n",
       "      <th>Homogeneity</th>\n",
       "      <th>Dissimilarity</th>\n",
       "      <th>Correlation</th>\n",
       "      <th>Coarseness</th>\n",
       "    </tr>\n",
       "  </thead>\n",
       "  <tbody>\n",
       "    <tr>\n",
       "      <th>count</th>\n",
       "      <td>3762.000000</td>\n",
       "      <td>3762.000000</td>\n",
       "      <td>3762.000000</td>\n",
       "      <td>3762.000000</td>\n",
       "      <td>3762.000000</td>\n",
       "      <td>3762.000000</td>\n",
       "      <td>3762.000000</td>\n",
       "      <td>3762.000000</td>\n",
       "      <td>3762.000000</td>\n",
       "      <td>3762.000000</td>\n",
       "      <td>3762.000000</td>\n",
       "      <td>3762.000000</td>\n",
       "      <td>3762.000000</td>\n",
       "      <td>3.762000e+03</td>\n",
       "    </tr>\n",
       "    <tr>\n",
       "      <th>mean</th>\n",
       "      <td>0.447368</td>\n",
       "      <td>9.488890</td>\n",
       "      <td>711.101063</td>\n",
       "      <td>25.182271</td>\n",
       "      <td>0.073603</td>\n",
       "      <td>4.102727</td>\n",
       "      <td>24.389071</td>\n",
       "      <td>127.961459</td>\n",
       "      <td>0.204705</td>\n",
       "      <td>0.058632</td>\n",
       "      <td>0.479252</td>\n",
       "      <td>4.698498</td>\n",
       "      <td>0.955767</td>\n",
       "      <td>7.458341e-155</td>\n",
       "    </tr>\n",
       "    <tr>\n",
       "      <th>std</th>\n",
       "      <td>0.497288</td>\n",
       "      <td>5.728022</td>\n",
       "      <td>467.466896</td>\n",
       "      <td>8.773526</td>\n",
       "      <td>0.070269</td>\n",
       "      <td>2.560940</td>\n",
       "      <td>56.434747</td>\n",
       "      <td>109.499601</td>\n",
       "      <td>0.129352</td>\n",
       "      <td>0.058300</td>\n",
       "      <td>0.127929</td>\n",
       "      <td>1.850173</td>\n",
       "      <td>0.026157</td>\n",
       "      <td>0.000000e+00</td>\n",
       "    </tr>\n",
       "    <tr>\n",
       "      <th>min</th>\n",
       "      <td>0.000000</td>\n",
       "      <td>0.078659</td>\n",
       "      <td>3.145628</td>\n",
       "      <td>1.773592</td>\n",
       "      <td>0.000882</td>\n",
       "      <td>1.886014</td>\n",
       "      <td>3.942402</td>\n",
       "      <td>3.194733</td>\n",
       "      <td>0.024731</td>\n",
       "      <td>0.000612</td>\n",
       "      <td>0.105490</td>\n",
       "      <td>0.681121</td>\n",
       "      <td>0.549426</td>\n",
       "      <td>7.458341e-155</td>\n",
       "    </tr>\n",
       "    <tr>\n",
       "      <th>25%</th>\n",
       "      <td>0.000000</td>\n",
       "      <td>4.982395</td>\n",
       "      <td>363.225459</td>\n",
       "      <td>19.058475</td>\n",
       "      <td>0.006856</td>\n",
       "      <td>2.620203</td>\n",
       "      <td>7.252852</td>\n",
       "      <td>72.125208</td>\n",
       "      <td>0.069617</td>\n",
       "      <td>0.004847</td>\n",
       "      <td>0.364973</td>\n",
       "      <td>3.412363</td>\n",
       "      <td>0.947138</td>\n",
       "      <td>7.458341e-155</td>\n",
       "    </tr>\n",
       "    <tr>\n",
       "      <th>50%</th>\n",
       "      <td>0.000000</td>\n",
       "      <td>8.477531</td>\n",
       "      <td>622.580417</td>\n",
       "      <td>24.951560</td>\n",
       "      <td>0.066628</td>\n",
       "      <td>3.422210</td>\n",
       "      <td>12.359088</td>\n",
       "      <td>106.737418</td>\n",
       "      <td>0.225496</td>\n",
       "      <td>0.050849</td>\n",
       "      <td>0.512551</td>\n",
       "      <td>4.482404</td>\n",
       "      <td>0.961610</td>\n",
       "      <td>7.458341e-155</td>\n",
       "    </tr>\n",
       "    <tr>\n",
       "      <th>75%</th>\n",
       "      <td>1.000000</td>\n",
       "      <td>13.212723</td>\n",
       "      <td>966.954319</td>\n",
       "      <td>31.095889</td>\n",
       "      <td>0.113284</td>\n",
       "      <td>4.651737</td>\n",
       "      <td>22.640304</td>\n",
       "      <td>161.059006</td>\n",
       "      <td>0.298901</td>\n",
       "      <td>0.089342</td>\n",
       "      <td>0.575557</td>\n",
       "      <td>5.723821</td>\n",
       "      <td>0.971355</td>\n",
       "      <td>7.458341e-155</td>\n",
       "    </tr>\n",
       "    <tr>\n",
       "      <th>max</th>\n",
       "      <td>1.000000</td>\n",
       "      <td>33.239975</td>\n",
       "      <td>2910.581879</td>\n",
       "      <td>53.949809</td>\n",
       "      <td>0.394539</td>\n",
       "      <td>36.931294</td>\n",
       "      <td>1371.640060</td>\n",
       "      <td>3382.574163</td>\n",
       "      <td>0.589682</td>\n",
       "      <td>0.347725</td>\n",
       "      <td>0.810921</td>\n",
       "      <td>27.827751</td>\n",
       "      <td>0.989972</td>\n",
       "      <td>7.458341e-155</td>\n",
       "    </tr>\n",
       "  </tbody>\n",
       "</table>\n",
       "</div>"
      ],
      "text/plain": [
       "             Class         Mean     Variance  Standard Deviation      Entropy  \\\n",
       "count  3762.000000  3762.000000  3762.000000         3762.000000  3762.000000   \n",
       "mean      0.447368     9.488890   711.101063           25.182271     0.073603   \n",
       "std       0.497288     5.728022   467.466896            8.773526     0.070269   \n",
       "min       0.000000     0.078659     3.145628            1.773592     0.000882   \n",
       "25%       0.000000     4.982395   363.225459           19.058475     0.006856   \n",
       "50%       0.000000     8.477531   622.580417           24.951560     0.066628   \n",
       "75%       1.000000    13.212723   966.954319           31.095889     0.113284   \n",
       "max       1.000000    33.239975  2910.581879           53.949809     0.394539   \n",
       "\n",
       "          Skewness     Kurtosis     Contrast       Energy          ASM  \\\n",
       "count  3762.000000  3762.000000  3762.000000  3762.000000  3762.000000   \n",
       "mean      4.102727    24.389071   127.961459     0.204705     0.058632   \n",
       "std       2.560940    56.434747   109.499601     0.129352     0.058300   \n",
       "min       1.886014     3.942402     3.194733     0.024731     0.000612   \n",
       "25%       2.620203     7.252852    72.125208     0.069617     0.004847   \n",
       "50%       3.422210    12.359088   106.737418     0.225496     0.050849   \n",
       "75%       4.651737    22.640304   161.059006     0.298901     0.089342   \n",
       "max      36.931294  1371.640060  3382.574163     0.589682     0.347725   \n",
       "\n",
       "       Homogeneity  Dissimilarity  Correlation     Coarseness  \n",
       "count  3762.000000    3762.000000  3762.000000   3.762000e+03  \n",
       "mean      0.479252       4.698498     0.955767  7.458341e-155  \n",
       "std       0.127929       1.850173     0.026157   0.000000e+00  \n",
       "min       0.105490       0.681121     0.549426  7.458341e-155  \n",
       "25%       0.364973       3.412363     0.947138  7.458341e-155  \n",
       "50%       0.512551       4.482404     0.961610  7.458341e-155  \n",
       "75%       0.575557       5.723821     0.971355  7.458341e-155  \n",
       "max       0.810921      27.827751     0.989972  7.458341e-155  "
      ]
     },
     "execution_count": 17,
     "metadata": {},
     "output_type": "execute_result"
    }
   ],
   "source": [
    "df.describe()"
   ]
  },
  {
   "cell_type": "markdown",
   "metadata": {},
   "source": [
    "While the dataset is a little unbalanced as the mean of the class is 0.447, we can still proceed with the classification process and see how well the model will perform."
   ]
  },
  {
   "cell_type": "markdown",
   "metadata": {},
   "source": [
    "### 2.2 Data Scaling and Splitting"
   ]
  },
  {
   "cell_type": "code",
   "execution_count": 18,
   "metadata": {},
   "outputs": [
    {
     "name": "stdout",
     "output_type": "stream",
     "text": [
      "(2633, 13) (2633,)\n"
     ]
    }
   ],
   "source": [
    "X = df.drop(columns=['Class'])\n",
    "y = df['Class']\n",
    "\n",
    "scaler = StandardScaler()\n",
    "X = scaler.fit_transform(X)\n",
    "\n",
    "X_train, X_test, y_train, y_test = train_test_split(X, y, test_size=0.3, random_state=SEED)\n",
    "print(X_train.shape, y_train.shape)"
   ]
  },
  {
   "cell_type": "markdown",
   "metadata": {},
   "source": [
    "## 3. Model Evaluation"
   ]
  },
  {
   "cell_type": "markdown",
   "metadata": {},
   "source": [
    "A simple performance comparison between my model and sklearn's model using the accuracy score."
   ]
  },
  {
   "cell_type": "code",
   "execution_count": 19,
   "metadata": {},
   "outputs": [
    {
     "name": "stdout",
     "output_type": "stream",
     "text": [
      "The accuracy score of my model is 0.9760850310008857\n"
     ]
    }
   ],
   "source": [
    "model = GDLogisticRegression(0.01, 10000) # initialize\n",
    "model.fit(X_train, y_train) # train\n",
    "y_pred = model.predict(X_test) # predict\n",
    "\n",
    "my_model_score = accuracy_score(y_test, y_pred)\n",
    "print(f\"The accuracy score of my model is {my_model_score}\")"
   ]
  },
  {
   "cell_type": "code",
   "execution_count": 20,
   "metadata": {},
   "outputs": [
    {
     "name": "stdout",
     "output_type": "stream",
     "text": [
      "The accuracy score of sklearn's model is 0.983170947741364\n"
     ]
    }
   ],
   "source": [
    "from sklearn.linear_model import LogisticRegression\n",
    "\n",
    "model = LogisticRegression() # initialize\n",
    "model.fit(X_train, y_train.ravel()) # train\n",
    "y_pred = model.predict(X_test).reshape((-1,1)) # predict\n",
    "\n",
    "sklearn_model_score = accuracy_score(y_test, y_pred)\n",
    "print(f\"The accuracy score of sklearn's model is {sklearn_model_score}\")"
   ]
  },
  {
   "cell_type": "markdown",
   "metadata": {},
   "source": [
    "The high acacuracy (>97.0%) in both models demonstrates  that even if we do not have any domain knowledge about brain tumor, logistic regression model can still perform well if the dataset is clean."
   ]
  }
 ],
 "metadata": {
  "kernelspec": {
   "display_name": "base",
   "language": "python",
   "name": "python3"
  },
  "language_info": {
   "codemirror_mode": {
    "name": "ipython",
    "version": 3
   },
   "file_extension": ".py",
   "mimetype": "text/x-python",
   "name": "python",
   "nbconvert_exporter": "python",
   "pygments_lexer": "ipython3",
   "version": "3.11.4"
  }
 },
 "nbformat": 4,
 "nbformat_minor": 2
}
